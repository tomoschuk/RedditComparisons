{
 "cells": [
  {
   "cell_type": "markdown",
   "metadata": {},
   "source": [
    "# Reddit thread comparisons"
   ]
  },
  {
   "cell_type": "markdown",
   "metadata": {},
   "source": [
    "One of my favorite things about reddit is the diversity of communities. Some of the weirdest communties in the world gather to express their opinions on things. What I find particularly interesting about this fact, is that people will gather in the same place and have totally different opinions based on the communties their in. For an obvious example, some of the same topics will work their way through r/liberal and r/conservative: the recent election, current administration policy etc. Suffice it to say: their opinions differ.\n",
    "\n",
    "I wanted a way to quantify the difference in sentiment between a topic in two communities, so I've written this script using a fairly innocuous example: Marvel/Netflix's Iron Fist as discussed by a general population of television watchers vs. Marvel fans."
   ]
  },
  {
   "cell_type": "markdown",
   "metadata": {},
   "source": [
    "## Iron Fist"
   ]
  },
  {
   "cell_type": "markdown",
   "metadata": {},
   "source": [
    "Netflix's Marvel shows have been wildly popular - Daredevil, Jessica Jones and Luke Cage have all scored at least 75 on Metacritic. The most recent addition...has not done so well. [Metacritic gives Iron Fist a 37.](www.metacritic.com/tv/marvels-iron-fist) Interestingly, users seem to disagree with critics. Many more comments on metacritic seem to have positive reviews. Is it that critics are being unusually harsh? Are fans unusually forgiving? My based-on-nothing hypothesis is that the critics and fans have different interests. Critics represent a more general audience that will care about things like dialogue, while fans are more interested in how true it is to the source material. It struck me as an interesting exercise to see if I could quantify this disparity (using sentiment classification)...and then get down to the root of its cause (using topic extraction). \n",
    "\n",
    "Multiple subreddits have threads discussing Iron Fist, [r/television](https://www.reddit.com/r/television/comments/5zvzlz/iron_fist_series_premiere_discussion/?limit=500) and [r/marvelstudios](https://www.reddit.com/r/marvelstudios/comments/5zva2a/the_official_iron_fist_discussion_ultrathread/?sort=top&limit=500) being among them. I'm going analyze all of the top level comments of these communities, treating r/tv commenters as a general audience (critics theoretically voice this community's opinions) and r/marvelstudios as fans.\n",
    "\n",
    "So to do this I will:\n",
    "1. [Scrape and process the data, including parsing, lemmatization, and stop word removal.](#section1)\n",
    "2. [Train a Linear SVC and Naïve Bayes Sentiment Classification model on a training set of movie reviews that are already classified as positive or negative.](#section2)\n",
    "3. [Use that model to classify and visualize sentiment from the two communities.](#section3)\n",
    "4. [Extract topics from the different communities to try to understand who's talking about what.](#section4)\n",
    "\n",
    "[Jump to the conclusion!](#conc)"
   ]
  },
  {
   "cell_type": "code",
   "execution_count": 57,
   "metadata": {
    "collapsed": false
   },
   "outputs": [],
   "source": [
    "import os\n",
    "import praw\n",
    "import spacy\n",
    "import glob\n",
    "import pandas as pd\n",
    "import numpy as np\n",
    "\n",
    "from sklearn.model_selection import train_test_split\n",
    "from sklearn.feature_extraction.text import TfidfVectorizer, CountVectorizer\n",
    "from sklearn.naive_bayes import MultinomialNB\n",
    "from sklearn.decomposition import LatentDirichletAllocation\n",
    "from sklearn.svm import LinearSVC, SVC\n",
    "\n",
    "import matplotlib.pyplot as plt\n",
    "import seaborn as sns\n",
    "\n",
    "def is_punct_space(token):\n",
    "    return token.is_punct or token.is_space\n",
    "\n",
    "nlp = spacy.load('en')\n",
    "\n",
    "#Add some custom stopwords\n",
    "#These need to change with the threads in question\n",
    "spacy.en.language_data.STOP_WORDS.update(['-PRON-','think','feel','like','episode',\"'s\", 'season'])"
   ]
  },
  {
   "cell_type": "markdown",
   "metadata": {},
   "source": [
    "<a id='section1'></a>\n",
    "## Scrape the data "
   ]
  },
  {
   "cell_type": "markdown",
   "metadata": {},
   "source": [
    "To do this you need your own Reddit account, and you need to use it to get a client_id and client_secret. Mine are removed."
   ]
  },
  {
   "cell_type": "code",
   "execution_count": 2,
   "metadata": {
    "collapsed": false
   },
   "outputs": [
    {
     "name": "stdout",
     "output_type": "stream",
     "text": [
      "Version 4.5.0 of praw is outdated. Version 4.5.1 was released Monday May 08, 2017.\n"
     ]
    }
   ],
   "source": [
    "reddit = praw.Reddit(user_agent='Comment Extraction (by /u/??)',\n",
    "                     client_id='??', client_secret=\"??\")\n",
    "\n",
    "tv = reddit.submission(url='https://www.reddit.com/r/television/comments/5zvzlz/iron_fist_series_premiere_discussion/?limit=500')\n",
    "fans = reddit.submission(url='https://www.reddit.com/r/marvelstudios/comments/5zva2a/the_official_iron_fist_discussion_ultrathread/?sort=top&limit=500')"
   ]
  },
  {
   "cell_type": "code",
   "execution_count": 3,
   "metadata": {
    "collapsed": false
   },
   "outputs": [],
   "source": [
    "tv_comments = []\n",
    "tv.comments.replace_more(limit=0)\n",
    "for top_level_comment in tv.comments:\n",
    "    tv_comments.append(top_level_comment.body)\n",
    "    \n",
    "marvel_comments = []\n",
    "fans.comments.replace_more(limit=0)\n",
    "for top_level_comment in fans.comments:\n",
    "    marvel_comments.append(top_level_comment.body)\n",
    "\n",
    "#Create dataframes\n",
    "all_comments = pd.DataFrame({'raw': tv_comments,'source':'tv'})\n",
    "fans_comments = pd.DataFrame({'raw': marvel_comments, 'source':'fans'})\n",
    "\n",
    "#Remove any comments that are longer than one standard deviation above the median. \n",
    "#I love a good internet rant, but I don't want ones that are too long influencing the topic extraction too much.\n",
    "median_fans_comment_length = np.median(fans_comments['raw'].map(len))\n",
    "median_tv_comment_length = np.median(all_comments['raw'].map(len))\n",
    "std_fans_comment_length = np.std(fans_comments['raw'].map(len))\n",
    "std_tv_comment_length = np.std(all_comments['raw'].map(len))\n",
    "fans_comments = fans_comments[fans_comments['raw'].map(len) < (median_fans_comment_length+std_fans_comment_length)]\n",
    "all_comments = all_comments[all_comments['raw'].map(len) < (median_tv_comment_length+std_tv_comment_length)]\n",
    "\n",
    "#Figure out which of the two datasets has more comments, then reduce the bigger one to be the same size as the smaller\n",
    "if len(fans_comments) > len(all_comments):\n",
    "    fans_comments = fans_comments.head(len(all_comments))\n",
    "else:\n",
    "    all_comments = all_comments.head(len(head_comments))\n",
    "\n",
    "#Merge to one dataframe\n",
    "all_comments = all_comments.append(fans_comments)\n"
   ]
  },
  {
   "cell_type": "code",
   "execution_count": 4,
   "metadata": {
    "collapsed": false
   },
   "outputs": [],
   "source": [
    "def nlp_pipeline(data):\n",
    "    data = data.reset_index(drop=True)\n",
    "    data.raw = [r.replace('\\n', '') for r in data.raw]\n",
    "    \n",
    "    #Parse and lemmatize the data\n",
    "    data['parsed'] = [ nlp(x) for x in data.raw]\n",
    "    data['lemmatized'] = [[token.lemma_ for token in x\n",
    "                            if not is_punct_space(token)] \n",
    "                  for x in data.parsed]\n",
    "    \n",
    "    #Remove Stop words\n",
    "    data['cleaned_comments'] = [[term for term in x\n",
    "                                if not term in spacy.en.language_data.STOP_WORDS]\n",
    "                               for x in data.lemmatized]\n",
    "    #Collapse into one string rather than list\n",
    "    data.cleaned_comments = [' '.join(x) for x in data.cleaned_comments]\n",
    "    \n",
    "    #Create a couple bigrames for names - we don't want the model to confused Jessica Jones and Finn Jones\n",
    "    data.cleaned_comments = [r.replace('jessica jones', 'jessica_jones') for r in data.cleaned_comments]\n",
    "    data.cleaned_comments = [r.replace('finn jones', 'finn_jones') for r in data.cleaned_comments]\n",
    "    data.cleaned_comments = [r.replace('luke cage', 'luke_cage') for r in data.cleaned_comments]\n",
    "    data.cleaned_comments = [r.replace('iron fist', 'iron_fist') for r in data.cleaned_comments]\n",
    "    return data"
   ]
  },
  {
   "cell_type": "markdown",
   "metadata": {},
   "source": [
    "Note that the bigrams were chosen by hand, so this would need to change for any comparison of two different threads."
   ]
  },
  {
   "cell_type": "code",
   "execution_count": 5,
   "metadata": {
    "collapsed": false,
    "scrolled": true
   },
   "outputs": [
    {
     "data": {
      "text/html": [
       "<div>\n",
       "<table border=\"1\" class=\"dataframe\">\n",
       "  <thead>\n",
       "    <tr style=\"text-align: right;\">\n",
       "      <th></th>\n",
       "      <th>raw</th>\n",
       "      <th>source</th>\n",
       "      <th>parsed</th>\n",
       "      <th>lemmatized</th>\n",
       "      <th>cleaned_comments</th>\n",
       "    </tr>\n",
       "  </thead>\n",
       "  <tbody>\n",
       "    <tr>\n",
       "      <th>0</th>\n",
       "      <td>I actually like it, but my biggest problem so ...</td>\n",
       "      <td>tv</td>\n",
       "      <td>(I, actually, like, it, ,, but, my, biggest, p...</td>\n",
       "      <td>[-PRON-, actually, like, -PRON-, but, -PRON-, ...</td>\n",
       "      <td>actually big problem far soon claire find hand...</td>\n",
       "    </tr>\n",
       "  </tbody>\n",
       "</table>\n",
       "</div>"
      ],
      "text/plain": [
       "                                                 raw source  \\\n",
       "0  I actually like it, but my biggest problem so ...     tv   \n",
       "\n",
       "                                              parsed  \\\n",
       "0  (I, actually, like, it, ,, but, my, biggest, p...   \n",
       "\n",
       "                                          lemmatized  \\\n",
       "0  [-PRON-, actually, like, -PRON-, but, -PRON-, ...   \n",
       "\n",
       "                                    cleaned_comments  \n",
       "0  actually big problem far soon claire find hand...  "
      ]
     },
     "execution_count": 5,
     "metadata": {},
     "output_type": "execute_result"
    }
   ],
   "source": [
    "test_data = nlp_pipeline(all_comments)\n",
    "test_data.head(1)"
   ]
  },
  {
   "cell_type": "markdown",
   "metadata": {},
   "source": [
    "I'd like to add a new column to show the progression of the pipeline, rather than transforming to only one list. Parsing turns it into a list of strings, lemmatizing it lowercases it, and identifies parts of speech. The cleaned_comments is the column we use for everything in this analysis."
   ]
  },
  {
   "cell_type": "markdown",
   "metadata": {},
   "source": [
    "<a id='section2'></a>\n",
    "## Train a Sentiment Classification model "
   ]
  },
  {
   "cell_type": "markdown",
   "metadata": {},
   "source": [
    "Here I have taken a corpus of movie reviews ([found here](http://www.cs.cornell.edu/people/pabo/movie-review-data/)) that have already been classified as negative or positive. This will serve as the training material for our sentiment classification."
   ]
  },
  {
   "cell_type": "code",
   "execution_count": 7,
   "metadata": {
    "collapsed": false
   },
   "outputs": [],
   "source": [
    "#Set path to positive and negative folders (my information removed)\n",
    "ppath = '??'\n",
    "npath = '??'\n",
    "\n",
    "#Open negative files and put them into a pandas dataframe\n",
    "os.chdir(npath)\n",
    "ndat = []\n",
    "ffiles = [f for f in os.listdir(npath) if os.path.isfile(f)]\n",
    "for f in ffiles:\n",
    "  with open (f, \"r\") as myfile:\n",
    "    ndat.append(myfile.read())\n",
    "\n",
    "reviews = pd.DataFrame({'raw':ndat,'sentiment':'negative'})\n",
    "\n",
    "#Positive files into a separate dataframe then merge the two\n",
    "os.chdir(ppath)\n",
    "pdat = []\n",
    "pfiles = [f for f in os.listdir(ppath) if os.path.isfile(f)]\n",
    "for f in pfiles:\n",
    "  with open (f, \"r\") as myfile:\n",
    "    pdat.append(myfile.read())\n",
    "pos_reviews = pd.DataFrame({'raw':pdat,'sentiment':'positive'})\n",
    "\n",
    "#Merge\n",
    "reviews = reviews.append(pos_reviews)"
   ]
  },
  {
   "cell_type": "code",
   "execution_count": 8,
   "metadata": {
    "collapsed": false
   },
   "outputs": [
    {
     "data": {
      "text/html": [
       "<div>\n",
       "<table border=\"1\" class=\"dataframe\">\n",
       "  <thead>\n",
       "    <tr style=\"text-align: right;\">\n",
       "      <th></th>\n",
       "      <th>raw</th>\n",
       "      <th>sentiment</th>\n",
       "      <th>parsed</th>\n",
       "      <th>lemmatized</th>\n",
       "      <th>cleaned_comments</th>\n",
       "    </tr>\n",
       "  </thead>\n",
       "  <tbody>\n",
       "    <tr>\n",
       "      <th>0</th>\n",
       "      <td>plot : two teen couples go to a church party ,...</td>\n",
       "      <td>negative</td>\n",
       "      <td>(plot, :, two, teen, couples, go, to, a, churc...</td>\n",
       "      <td>[plot, two, teen, couple, go, to, a, church, p...</td>\n",
       "      <td>plot teen couple church party drink drive acci...</td>\n",
       "    </tr>\n",
       "  </tbody>\n",
       "</table>\n",
       "</div>"
      ],
      "text/plain": [
       "                                                 raw sentiment  \\\n",
       "0  plot : two teen couples go to a church party ,...  negative   \n",
       "\n",
       "                                              parsed  \\\n",
       "0  (plot, :, two, teen, couples, go, to, a, churc...   \n",
       "\n",
       "                                          lemmatized  \\\n",
       "0  [plot, two, teen, couple, go, to, a, church, p...   \n",
       "\n",
       "                                    cleaned_comments  \n",
       "0  plot teen couple church party drink drive acci...  "
      ]
     },
     "execution_count": 8,
     "metadata": {},
     "output_type": "execute_result"
    }
   ],
   "source": [
    "train_data = nlp_pipeline(reviews)\n",
    "train_data.head(1)"
   ]
  },
  {
   "cell_type": "markdown",
   "metadata": {},
   "source": [
    "The first kind of model I want to try is a basic LinearSVC, which will try to classify based simply on matching vectors. Let's also see what that looks like in a graph."
   ]
  },
  {
   "cell_type": "markdown",
   "metadata": {},
   "source": [
    "<a id='section3'></a>\n",
    "## Test the models"
   ]
  },
  {
   "cell_type": "code",
   "execution_count": 9,
   "metadata": {
    "collapsed": true
   },
   "outputs": [],
   "source": [
    "#Turn the comments into vectors, train the model, and return the dataframe with a sentiment column\n",
    "def classify(traindata,testdata, classification_method):\n",
    "    vectorizer = CountVectorizer()\n",
    "    train_vec = vectorizer.fit_transform(traindata.cleaned_comments)\n",
    "    test_vec = vectorizer.transform(testdata.cleaned_comments)\n",
    "    classifier = classification_method\n",
    "    classifier.fit(train_vec, traindata.sentiment)\n",
    "    testdata['sentiment'] = classifier.predict(test_vec)\n",
    "    return testdata\n",
    "\n",
    "#To validate the model, this splits the training data, and prints a cross-validated accuracy\n",
    "def print_model_acc(traindata, classification_method):\n",
    "    X_train, X_test, Y_train, Y_test = train_test_split(traindata.cleaned_comments,\n",
    "                                                        traindata.sentiment, test_size=0.2, random_state=4)\n",
    "    vectorizer = CountVectorizer()\n",
    "    train_vec = vectorizer.fit_transform(X_train)\n",
    "    test_vec = vectorizer.transform(X_test)\n",
    "    classifier = classification_method\n",
    "    classifier.fit(train_vec, Y_train)\n",
    "    print(classifier.score(test_vec, Y_test))"
   ]
  },
  {
   "cell_type": "code",
   "execution_count": 10,
   "metadata": {
    "collapsed": false
   },
   "outputs": [
    {
     "name": "stdout",
     "output_type": "stream",
     "text": [
      "0.8125\n"
     ]
    }
   ],
   "source": [
    "print_model_acc(train_data, LinearSVC())"
   ]
  },
  {
   "cell_type": "markdown",
   "metadata": {},
   "source": [
    "Ok, so that's not a bad classification accuracy. Now let's apply it to our test set and see what it looks like in a graph."
   ]
  },
  {
   "cell_type": "code",
   "execution_count": 16,
   "metadata": {
    "collapsed": false
   },
   "outputs": [
    {
     "data": {
      "image/png": "[encoded data removed]",
      "text/plain": [
       "<matplotlib.figure.Figure at 0x164404ef0>"
      ]
     },
     "metadata": {},
     "output_type": "display_data"
    }
   ],
   "source": [
    "test_data = classify(train_data,test_data, LinearSVC())\n",
    "\n",
    "#Plot the results using seaborn\n",
    "agg=test_data.groupby(['sentiment','source']).size().reset_index()\n",
    "agg.columns=['sentiment','source','size']\n",
    "fig1 = sns.factorplot(x=\"source\", y=\"size\", hue=\"sentiment\", data=agg, kind=\"bar\")\n",
    "sns.plt.show()"
   ]
  },
  {
   "cell_type": "markdown",
   "metadata": {},
   "source": [
    "Before getting into the results, let me break down the graph a bit. On the y-axis we simply see the number of items that got sorted into each category. On the x-axis is the source material (so did these reddit comments come from fans or tv). \n",
    "\n",
    "Our model was pretty good at identifying items in the train set, but doesn't really seem to capture a difference here. I think it's worth it to also try a Multinomial Naive Bayes, which will assume independence of all the words being in a given comment."
   ]
  },
  {
   "cell_type": "code",
   "execution_count": 17,
   "metadata": {
    "collapsed": false
   },
   "outputs": [
    {
     "name": "stdout",
     "output_type": "stream",
     "text": [
      "0.82\n"
     ]
    }
   ],
   "source": [
    "print_model_acc(train_data, MultinomialNB())"
   ]
  },
  {
   "cell_type": "code",
   "execution_count": 18,
   "metadata": {
    "collapsed": false
   },
   "outputs": [
    {
     "data": {
      "image/png": "[encoded data removed]",
      "text/plain": [
       "<matplotlib.figure.Figure at 0x1a5f5f128>"
      ]
     },
     "metadata": {},
     "output_type": "display_data"
    }
   ],
   "source": [
    "test_data = classify(train_data,test_data, MultinomialNB())\n",
    "\n",
    "agg2=test_data.groupby(['sentiment','source']).size().reset_index()\n",
    "agg2.columns=['sentiment','source','size']\n",
    "fig1 = sns.factorplot(x=\"source\", y=\"size\", hue=\"sentiment\", data=agg2, kind=\"bar\")\n",
    "sns.plt.show()"
   ]
  },
  {
   "cell_type": "markdown",
   "metadata": {},
   "source": [
    "That captures way more nuance in the data than the LinearSVC and doesn't sacrifice any of the model's accuracy. This is probably because a Naive Bayes classifier has much more lax assumptions about the independence of the features of the model.\n",
    "\n",
    "Just to be sure though let's look at a random comment for each sentiment."
   ]
  },
  {
   "cell_type": "code",
   "execution_count": 23,
   "metadata": {
    "collapsed": false
   },
   "outputs": [
    {
     "name": "stdout",
     "output_type": "stream",
     "text": [
      "Negative example:\n",
      "1    The dialogue and acting improves as it goes, but fuck it's slow. Every episode I've seen is at lest 15-20 minutes too long. \n",
      "Name: raw, dtype: object\n",
      "\n",
      "Positive example:\n",
      "276    Just finished watching the finale, really don't think it deserves the hate it's getting here. I thought it was pretty good; started off slow and not enough use of the Iron Fist, ended a bit weak but I thought the fight scenes were really cool and enjoyed the story (the bits with the Hand, anyway).\n",
      "Name: raw, dtype: object\n",
      "***************\n"
     ]
    }
   ],
   "source": [
    "pd.set_option('display.max_colwidth', -1)\n",
    "\n",
    "print(\"Negative example:\")\n",
    "print(test_data.loc[test_data.sentiment=='negative','raw'].sample(1))\n",
    "print()\n",
    "print(\"Positive example:\")\n",
    "print(test_data.loc[test_data.sentiment=='positive','raw'].sample(1))\n",
    "print(\"***************\")"
   ]
  },
  {
   "cell_type": "markdown",
   "metadata": {},
   "source": [
    "Sorry for the profanity...but that's internet commenting for you.\n",
    "\n",
    "Anyway, a decent classification difference! It's clear that the any one comment isn't going to be wholly positive or negative. These comments are clearly nuanced and the Multinomial Naive Bayes model seems to do an better job of catching general sentiment. "
   ]
  },
  {
   "cell_type": "markdown",
   "metadata": {},
   "source": [
    "<a id='section4'></a>\n",
    "## Extracting and comparing topics"
   ]
  },
  {
   "cell_type": "markdown",
   "metadata": {},
   "source": [
    "Ok, so now that we've looked at the sentiment, it's time to try to extract some topics. The overarching goal of this section is to see if different communities are talking about different things. To do that we are going to define two similar functions that vectorize the comments and fit them to an LDA model, which, given a number of proposed topics, will associates words with each topic in the model."
   ]
  },
  {
   "cell_type": "code",
   "execution_count": 30,
   "metadata": {
    "collapsed": false
   },
   "outputs": [],
   "source": [
    "def source_topic_extraction(data, source, n_features, n_topics):\n",
    "    #Vectorize comments\n",
    "    vectorizer = CountVectorizer(min_df=5, max_features=n_features,stop_words='english')\n",
    "    topic_vec = vectorizer.fit_transform(test_data[test_data.source == source].cleaned_comments)\n",
    "    #Add and fit them to an LDA model\n",
    "    lda_model = LatentDirichletAllocation(n_topics = n_topics, learning_method = 'online')\n",
    "    lda_model.fit(topic_vec)\n",
    "    feature_names = vectorizer.get_feature_names()\n",
    "    return lda_model, feature_names\n",
    "\n",
    "def sent_topic_extraction(data, sent, n_features, n_topics):\n",
    "    #Nearly identical to the model above, but filters based on SENTIMENT instead of SOURCE\n",
    "    vectorizer = CountVectorizer(min_df=5, max_features=n_features,stop_words='english')\n",
    "    topic_vec = vectorizer.fit_transform(test_data[test_data.sentiment == sent].cleaned_comments)\n",
    "    lda_model = LatentDirichletAllocation(n_topics = n_topics, learning_method = 'online')\n",
    "    lda_model.fit(topic_vec)\n",
    "    feature_names = vectorizer.get_feature_names()\n",
    "    return lda_model, feature_names\n",
    "\n",
    "#Given two topic models, prints top n words for each topic\n",
    "def compare_topics(model1, feature_names1, model2, feature_names2, n_top_words):\n",
    "    for topic_idx, topic in enumerate(model1.components_):\n",
    "        print(\"Model 1 topic #%d:\" % topic_idx)\n",
    "        print(\" \".join([feature_names1[i]\n",
    "                        for i in topic.argsort()[:-n_top_words - 1:-1]]))\n",
    "    print()\n",
    "    for topic_idx, topic in enumerate(model2.components_):\n",
    "        print(\"Model 2 topic #%d:\" % topic_idx)\n",
    "        print(\" \".join([feature_names2[i]\n",
    "                        for i in topic.argsort()[:-n_top_words - 1:-1]]))\n"
   ]
  },
  {
   "cell_type": "markdown",
   "metadata": {},
   "source": [
    "Now let's build two models, one representing fans and the other representing tv."
   ]
  },
  {
   "cell_type": "code",
   "execution_count": 48,
   "metadata": {
    "collapsed": false
   },
   "outputs": [
    {
     "name": "stdout",
     "output_type": "stream",
     "text": [
      "Model 1 topic #0:\n",
      "danny iron_fist fight series scene\n",
      "Model 1 topic #1:\n",
      "good far character enjoy watch\n",
      "\n",
      "Model 2 topic #0:\n",
      "watch bad good time review\n",
      "Model 2 topic #1:\n",
      "good daredevil fight luke_cage scene\n"
     ]
    }
   ],
   "source": [
    "fanmodel, fannames = source_topic_extraction(test_data, 'fans', 50, 2)\n",
    "tvmodel, tvnames = source_topic_extraction(test_data, 'tv', 50, 2)\n",
    "compare_topics(fanmodel, fannames, tvmodel, tvnames, 5)"
   ]
  },
  {
   "cell_type": "markdown",
   "metadata": {},
   "source": [
    "The first model is that of the fans, and the second is that of the tv watchers.\n",
    "\n",
    "I used relatively few topics because many of the comments are quite short, and too many comments with too many features would be kind of an overextension of our data. Given that, there are some obvious differences in topics. Topics from fans discuss the characters and the fighting, while TV posters compare Iron Fist to Daredevil and Luke Cage.\n",
    "\n",
    "I think, to some degree, this supports the idea that these two communities are focusing on different things, with the most obvious difference being that the tv posters immediately compare Iron Fist to the other Netflix shows.\n",
    "\n",
    "To take it one step further, I'll do two topic analyses, separated by sentiment rather than community."
   ]
  },
  {
   "cell_type": "code",
   "execution_count": 49,
   "metadata": {
    "collapsed": false
   },
   "outputs": [
    {
     "name": "stdout",
     "output_type": "stream",
     "text": [
      "Model 1 topic #0:\n",
      "great danny good iron_fist enjoy\n",
      "Model 1 topic #1:\n",
      "fight marvel come choreography good\n",
      "\n",
      "Model 2 topic #0:\n",
      "bad daredevil enjoy netflix far\n",
      "Model 2 topic #1:\n",
      "good danny fight character scene\n"
     ]
    }
   ],
   "source": [
    "posmodel, posnames = sent_topic_extraction(test_data, 'positive', 50, 2)\n",
    "negmodel, negnames = sent_topic_extraction(test_data, 'negative', 50, 2)\n",
    "compare_topics(posmodel, posnames, negmodel, negnames, 5)"
   ]
  },
  {
   "cell_type": "markdown",
   "metadata": {
    "collapsed": true
   },
   "source": [
    "Definitely take these results with a grain of salt. Almost all of the positive comments come from the fans community, so it isn't as nice a split as the last analysis.\n",
    "\n",
    "That said, there are a few trends that differ. The positive comments seem to mention the fight choreography, while the negative comments talk about the characters."
   ]
  },
  {
   "cell_type": "markdown",
   "metadata": {},
   "source": [
    "<a id='conc'></a>\n",
    "## Conclusion"
   ]
  },
  {
   "cell_type": "markdown",
   "metadata": {},
   "source": [
    "What have we learned? \n",
    "\n",
    "1. Fans clearly have more mixed opinions than the more general tv audience. \n",
    "2. The topics these fans care about vary, if only somewhat.\n",
    "\n",
    "\n",
    "I was altogether pretty happy with this code. Using SpaCy instead of nltk was a bit new, but was pretty simple, and will likely do a good job of scaling up if I get more comments. \n",
    "\n",
    "\n",
    "Some drawbacks/limitations:\n",
    "1. Reddit comments aren't typically very long...longer reviews from another site would probably contribute better to the models, though there are likely to be fewer reviews.\n",
    "2. This code doesn't capture reddit's upvote/downvote system. In an ideal world, I'd like to be able to weigh some comments as more influential, based on their score, to reflect that many people who come to the comment section simply agree and move on. \n",
    "3. The code needs manual bigrams for names, which is somewhat limiting to its generalizability. In the next iteration I want to add code that finds common bigrams and combines them.\n",
    "\n",
    "\n",
    "This code is otherwise pretty flexible and should be usable to compare the sentiment and topics of any two reddit threads given two links (and some edited stopwords). Iron Fist was a nice innocent example because there was a strong precedent for differing opinions between communities, but I think this would work just as well for posts from different political communities, religious communities etc."
   ]
  }
 ],
 "metadata": {
  "kernelspec": {
   "display_name": "Python 3",
   "language": "python",
   "name": "python3"
  },
  "language_info": {
   "codemirror_mode": {
    "name": "ipython",
    "version": 3
   },
   "file_extension": ".py",
   "mimetype": "text/x-python",
   "name": "python",
   "nbconvert_exporter": "python",
   "pygments_lexer": "ipython3",
   "version": "3.6.0"
  }
 },
 "nbformat": 4,
 "nbformat_minor": 2
}
